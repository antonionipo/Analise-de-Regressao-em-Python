{
  "cells": [
    {
      "cell_type": "markdown",
      "metadata": {
        "id": "view-in-github",
        "colab_type": "text"
      },
      "source": [
        "<a href=\"https://colab.research.google.com/github/antonionipo/Analise-de-Regressao-em-Python/blob/main/Repeti%C3%A7%C3%B5es_na_pr%C3%A1tica.ipynb\" target=\"_parent\"><img src=\"https://colab.research.google.com/assets/colab-badge.svg\" alt=\"Open In Colab\"/></a>"
      ]
    },
    {
      "cell_type": "markdown",
      "metadata": {
        "id": "7bDa8x-eBrGz"
      },
      "source": []
    },
    {
      "cell_type": "markdown",
      "metadata": {
        "id": "dsu3uJksx-M7"
      },
      "source": [
        "![dnc.png](data:image/png;base64,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)"
      ]
    },
    {
      "cell_type": "markdown",
      "metadata": {
        "id": "Mn_vGqswyBr0"
      },
      "source": [
        "<br>Consultor: Everton Menezes </br>"
      ]
    },
    {
      "cell_type": "markdown",
      "metadata": {
        "id": "vmOiyAlWk7HR"
      },
      "source": [
        "# Repetições (loops)\n",
        "\n",
        "As repetições são usadas para executarmos alguma ação por várias vezes seguidas."
      ]
    },
    {
      "cell_type": "markdown",
      "metadata": {
        "id": "bcRKHwmqlMbU"
      },
      "source": [
        "## for\n",
        "\n",
        "O `for` é utilizado quando queremos executar uma ação uma determinada quantidade de vezes."
      ]
    },
    {
      "cell_type": "markdown",
      "metadata": {
        "id": "V02UrCnblc0H"
      },
      "source": [
        "<h2> Estrutura do for </h2>\n",
        "\n",
        "```\n",
        "passo = range(ini,fim)\n",
        "for i in passo:\n",
        "  print('Bloco de repetição')\n",
        "```\n",
        "Temos que determinar um início e um fim para o for, que irá determinar a quantidade de vezes que a ação repetida será feita.\n",
        "\n",
        "<h3> Exemplo 1 </h3>\n",
        "\n",
        "Imprima \"Olá\" cinco vezes seguidas."
      ]
    },
    {
      "cell_type": "code",
      "execution_count": 2,
      "metadata": {
        "colab": {
          "base_uri": "https://localhost:8080/"
        },
        "id": "qrUhoWGolY3q",
        "outputId": "2eaa8f6f-d4bc-410c-956e-4b16b835ac63"
      },
      "outputs": [
        {
          "output_type": "stream",
          "name": "stdout",
          "text": [
            "Olá\n",
            "Olá\n",
            "Olá\n",
            "Olá\n",
            "Olá\n"
          ]
        }
      ],
      "source": [
        "# definindo o passo\n",
        "passo = range(1,5)\n",
        "\n",
        "# usando o for\n",
        "for i in passo:\n",
        "  print('Olá')\n"
      ]
    },
    {
      "cell_type": "markdown",
      "metadata": {
        "id": "YEFw5Js1mdn0"
      },
      "source": [
        "Repare que no exemplo acima foram impressos somente quatro \"Olá\"s ao invés de cinco. No **Python** ele sempre percorre do número inicial até o último número antes do final... portanto ele executará:\n",
        "\n",
        "1 - 2 - 3 - 4 - <s>5</s>\n",
        "\n",
        "<h3> Vamos ver em ação? </h3>"
      ]
    },
    {
      "cell_type": "code",
      "execution_count": 3,
      "metadata": {
        "colab": {
          "base_uri": "https://localhost:8080/"
        },
        "id": "mZPgac0gnAGw",
        "outputId": "c8255033-5bfd-4052-eef9-7c99ecc69f3b"
      },
      "outputs": [
        {
          "output_type": "stream",
          "name": "stdout",
          "text": [
            "i = 1 - Olá\n",
            "i = 2 - Olá\n",
            "i = 3 - Olá\n",
            "i = 4 - Olá\n",
            "i = 5 - Olá\n"
          ]
        }
      ],
      "source": [
        "passo = range(1,5+1)\n",
        "for i in passo:\n",
        "  print('i = {} - Olá'.format(i))\n"
      ]
    },
    {
      "cell_type": "markdown",
      "metadata": {
        "id": "DGfOsqeSnWln"
      },
      "source": [
        "Então para executarmos 5 vezes é comum somar 1 no ponto final"
      ]
    },
    {
      "cell_type": "code",
      "execution_count": 4,
      "metadata": {
        "colab": {
          "base_uri": "https://localhost:8080/"
        },
        "id": "VMVmqohtna8s",
        "outputId": "0352c9b0-4acc-4450-d6d7-3ee298b407b8"
      },
      "outputs": [
        {
          "output_type": "stream",
          "name": "stdout",
          "text": [
            "Passo 1 - Olá\n",
            "Passo 2 - Olá\n",
            "Passo 3 - Olá\n",
            "Passo 4 - Olá\n",
            "Passo 5 - Olá\n"
          ]
        }
      ],
      "source": [
        "passo = range(1,5+1)\n",
        "for i in passo:\n",
        "  print('Passo {} - Olá'.format(i))\n"
      ]
    },
    {
      "cell_type": "markdown",
      "metadata": {
        "id": "lBLQEda-nk25"
      },
      "source": [
        "<h2> Exemplo 2 </h2>\n",
        "\n",
        "Ler um livro de 20 páginas"
      ]
    },
    {
      "cell_type": "code",
      "execution_count": 5,
      "metadata": {
        "colab": {
          "base_uri": "https://localhost:8080/"
        },
        "id": "bzaGzrJIn4Pf",
        "outputId": "e44bf749-7d03-4087-bbff-58ada4823ccb"
      },
      "outputs": [
        {
          "output_type": "stream",
          "name": "stdout",
          "text": [
            "Leia a página: 1\n",
            "Leia a página: 2\n",
            "Leia a página: 3\n",
            "Leia a página: 4\n",
            "Leia a página: 5\n",
            "Leia a página: 6\n",
            "Leia a página: 7\n",
            "Leia a página: 8\n",
            "Leia a página: 9\n",
            "Leia a página: 10\n",
            "Leia a página: 11\n",
            "Leia a página: 12\n",
            "Leia a página: 13\n",
            "Leia a página: 14\n",
            "Leia a página: 15\n",
            "Leia a página: 16\n",
            "Leia a página: 17\n",
            "Leia a página: 18\n",
            "Leia a página: 19\n",
            "Leia a página: 20\n",
            "FIM\n"
          ]
        }
      ],
      "source": [
        "passo = range(1,20 + 1)\n",
        "\n",
        "for i in passo:\n",
        "  print('Leia a página: {}'.format(i))\n",
        "print('FIM')\n"
      ]
    },
    {
      "cell_type": "markdown",
      "metadata": {
        "id": "NAvzfc_RoWtZ"
      },
      "source": [
        "<h2> Exemplo 3 </h2>\n",
        "\n",
        "Some 5 números digitados pelo usuário."
      ]
    },
    {
      "cell_type": "code",
      "execution_count": 8,
      "metadata": {
        "colab": {
          "base_uri": "https://localhost:8080/"
        },
        "id": "scbOGzp5ouHo",
        "outputId": "933e972a-c14c-4366-a395-95a72a363f9a"
      },
      "outputs": [
        {
          "output_type": "stream",
          "name": "stdout",
          "text": [
            "Digite um número: 1\n",
            "i = 1, soma = 1.0\n",
            "Digite um número: 2\n",
            "i = 2, soma = 3.0\n",
            "Digite um número: 3\n",
            "i = 3, soma = 6.0\n",
            "Digite um número: 4\n",
            "i = 4, soma = 10.0\n",
            "Digite um número: 5\n",
            "i = 5, soma = 15.0\n",
            "FIM\n"
          ]
        }
      ],
      "source": [
        "soma = float(0)\n",
        "for i in range(1, 5+1):\n",
        "  n = float(input('Digite um número: '))\n",
        "  soma = soma + n\n",
        "  print('i = {}, soma = {}'.format(i,soma))\n",
        "print('FIM')"
      ]
    },
    {
      "cell_type": "markdown",
      "metadata": {
        "id": "yvkH4EatpD7k"
      },
      "source": [
        "### Modificando o range\n",
        "\n",
        "O range tradicional vai aumentando de 1 em 1 dentro do for, porém podemos configurar para aumentar da maneira que quisermos."
      ]
    },
    {
      "cell_type": "markdown",
      "metadata": {
        "id": "c-vbKqjOpUoD"
      },
      "source": [
        "<h2> Estrutura do passo </h2>\n",
        "\n",
        "```\n",
        "range(inicio, fim, passo)\n",
        "```\n",
        "\n",
        "* início: número inicial do range\n",
        "* fim: número final do range\n",
        "* passo: de quanto em quanto o valor será incrementado\n"
      ]
    },
    {
      "cell_type": "markdown",
      "metadata": {
        "id": "02WcfgvtqK5L"
      },
      "source": [
        "<h3> Exemplo 1 </h3>\n",
        "\n",
        "range(0,10,2)"
      ]
    },
    {
      "cell_type": "code",
      "execution_count": 13,
      "metadata": {
        "colab": {
          "base_uri": "https://localhost:8080/"
        },
        "id": "mzB0T8eqqR3c",
        "outputId": "f5f88358-896f-4bfd-e64b-42b4198a6034"
      },
      "outputs": [
        {
          "output_type": "stream",
          "name": "stdout",
          "text": [
            "0\n",
            "2\n",
            "4\n",
            "6\n",
            "8\n",
            "10\n",
            "12\n",
            "14\n",
            "16\n",
            "18\n",
            "FIM\n"
          ]
        }
      ],
      "source": [
        "passo = range(0, 20, 2)\n",
        "for i in passo:\n",
        "  print(i)\n",
        "print('FIM')"
      ]
    },
    {
      "cell_type": "markdown",
      "metadata": {
        "id": "7afcILRKqr2O"
      },
      "source": [
        "<h3> Exemplo 2 </h3>\n",
        "\n",
        "range(10,1,-1)"
      ]
    },
    {
      "cell_type": "code",
      "execution_count": 14,
      "metadata": {
        "colab": {
          "base_uri": "https://localhost:8080/"
        },
        "id": "Swlil-DQqzjP",
        "outputId": "5e0a39c2-15c8-4e42-8ba1-fca39f822c8e"
      },
      "outputs": [
        {
          "output_type": "stream",
          "name": "stdout",
          "text": [
            "10\n",
            "9\n",
            "8\n",
            "7\n",
            "6\n",
            "5\n",
            "4\n",
            "3\n",
            "2\n",
            "1\n",
            "0\n"
          ]
        }
      ],
      "source": [
        "passo = range(10,0-1,-1)\n",
        "\n",
        "for i in passo:\n",
        "  print(i)"
      ]
    },
    {
      "cell_type": "markdown",
      "metadata": {
        "id": "YcrPj7TBrFXH"
      },
      "source": [
        "<h2> Exercício 1 </h2>\n",
        "\n",
        "Some os números ímpares consecutivos começando em 1 e terminando 9"
      ]
    },
    {
      "cell_type": "code",
      "execution_count": 15,
      "metadata": {
        "colab": {
          "base_uri": "https://localhost:8080/"
        },
        "id": "0jF7VQL1rFCG",
        "outputId": "8f414d51-d2e8-4133-ef2b-083f7facc180"
      },
      "outputs": [
        {
          "output_type": "stream",
          "name": "stdout",
          "text": [
            "i = 1, soma = 1\n",
            "i = 3, soma = 4\n",
            "i = 5, soma = 9\n",
            "i = 7, soma = 16\n",
            "i = 9, soma = 25\n",
            "FIM\n"
          ]
        }
      ],
      "source": [
        "soma = 0\n",
        "for i in range(1, 9+1, 2):\n",
        "  soma = soma + i\n",
        "  print('i = {}, soma = {}'.format(i,soma))\n",
        "print('FIM')"
      ]
    },
    {
      "cell_type": "markdown",
      "metadata": {
        "id": "L7qgdtWCrlcE"
      },
      "source": [
        "### Cálculos incrementais\n",
        "\n",
        "Em **Python**, assim como muitas outras linguagens de programação, existe uma maneira simplifica de fazer cálculos incrementais"
      ]
    },
    {
      "cell_type": "markdown",
      "metadata": {
        "id": "yegI_mlDrzsS"
      },
      "source": [
        "<h2> Estrutura dos cálculos incrementais </h2>\n",
        "\n",
        "> soma = soma + 1 -> `soma += 1` <br>\n",
        "soma = soma + 5 -> `soma += 5` <br>\n",
        "soma = soma - 1 -> `soma -= 1` <br>\n",
        "soma = soma - 5 -> `soma -= 5` <br>\n",
        "soma = soma * 2 -> `soma *= 2`\n",
        "\n",
        "<h3> Resumo </h3>\n",
        "\n",
        ">anterior `+=` incremento <br>\n",
        "anterior `-=` incremento <br>\n",
        "anterior `*=` incremento <br>\n",
        "anterior `/=` incremento <br>\n",
        "\n",
        "<h3> Exemplo 1 </h3>\n",
        "\n",
        "Começando pelo número 1, some 1 a ele 10 vezes consecutivas"
      ]
    },
    {
      "cell_type": "code",
      "execution_count": 43,
      "metadata": {
        "colab": {
          "base_uri": "https://localhost:8080/"
        },
        "id": "Aa2cGd7cUDjn",
        "outputId": "7deb38a0-bbcf-463d-f991-05914fb11ff4"
      },
      "outputs": [
        {
          "output_type": "stream",
          "name": "stdout",
          "text": [
            "31\n"
          ]
        }
      ],
      "source": [
        "soma = 1\n",
        "passo = range(1,10+1)\n",
        "\n",
        "for i in passo:\n",
        "  #soma = soma + 1\n",
        "  soma += 3\n",
        "print(soma)"
      ]
    },
    {
      "cell_type": "code",
      "execution_count": 55,
      "metadata": {
        "colab": {
          "base_uri": "https://localhost:8080/"
        },
        "id": "9ZBPCCGdt9DI",
        "outputId": "9eb8c01a-0920-452b-8a6d-e32a7fd27296"
      },
      "outputs": [
        {
          "output_type": "stream",
          "name": "stdout",
          "text": [
            "Valor do edifício: 350000\n",
            "Valor da parcela: 5000\n",
            "Juro anual: 6\n",
            "Ano 1 - Valor restante: R$307400.00 - Valor gasto: R$60000.00\n",
            "Ano 2 - Valor restante: R$262244.00 - Valor gasto: R$120000.00\n",
            "Ano 3 - Valor restante: R$214378.64 - Valor gasto: R$180000.00\n",
            "Ano 4 - Valor restante: R$163641.36 - Valor gasto: R$240000.00\n",
            "Ano 5 - Valor restante: R$109859.84 - Valor gasto: R$300000.00\n",
            "Ano 6 - Valor restante: R$52851.43 - Valor gasto: R$360000.00\n",
            "6 anos e 11 meses - Valor gasto: R$415000.00\n"
          ]
        }
      ],
      "source": [
        "# financiamento de um imóvel\n",
        "valor_total = float(input('Valor do edifício: '))\n",
        "valor_divergente =valor_total\n",
        "valor_parcela = float(input('Valor da parcela: '))\n",
        "juro_anual = float(input('Juro anual: '))\n",
        "ano = 0\n",
        "valor_gasto = 0\n",
        "\n",
        "while True:\n",
        "  for i in range(1,12+1):\n",
        "    valor_total -= valor_parcela\n",
        "    valor_gasto += valor_parcela\n",
        "    if valor_total <= 0:\n",
        "      print('{} anos e {} meses - Valor gasto: R${:.2f}'.format(ano, i, valor_gasto))\n",
        "      valor_total=0\n",
        "      break\n",
        "  if valor_total <= 0:\n",
        "    break\n",
        "  valor_total *= (1 + juro_anual/100)\n",
        "  ano += 1\n",
        "  if valor_total > valor_divergente or ano == 70:\n",
        "    print('Impossível')\n",
        "    break\n",
        "  print('Ano {} - Valor restante: R${:.2f} - Valor gasto: R${:.2f}'.format(ano, valor_total, valor_gasto))"
      ]
    },
    {
      "cell_type": "markdown",
      "metadata": {
        "id": "iZSTFDOVuM4A"
      },
      "source": [
        "<h3> Exemplo 2 </h3>\n",
        "\n",
        "Começando pelo número 2, multiplique ele por 2 nove vezes consecutivas"
      ]
    },
    {
      "cell_type": "code",
      "execution_count": 44,
      "metadata": {
        "colab": {
          "base_uri": "https://localhost:8080/"
        },
        "id": "7lToFZCzuSpB",
        "outputId": "4985a43a-639c-4cdb-bb9c-b102560fb158"
      },
      "outputs": [
        {
          "output_type": "stream",
          "name": "stdout",
          "text": [
            "i = 1, mult 4\n",
            "i = 2, mult 8\n",
            "i = 3, mult 16\n",
            "i = 4, mult 32\n",
            "i = 5, mult 64\n",
            "i = 6, mult 128\n",
            "i = 7, mult 256\n",
            "i = 8, mult 512\n",
            "i = 9, mult 1024\n"
          ]
        }
      ],
      "source": [
        "mult = 2\n",
        "passo = range(1,9+1)\n",
        "\n",
        "for i in passo:\n",
        "  #mult = mult*2\n",
        "  mult *= 2\n",
        "  print('i = {}, mult {}'.format(i,mult))\n"
      ]
    },
    {
      "cell_type": "markdown",
      "metadata": {
        "id": "NEC83LINu4Hn"
      },
      "source": [
        "<h2> Exercício 1 </h2>\n",
        "\n",
        "Tire a média de 3 números digitados pelo usuário."
      ]
    },
    {
      "cell_type": "code",
      "execution_count": 47,
      "metadata": {
        "colab": {
          "base_uri": "https://localhost:8080/"
        },
        "id": "T0sHws0PvBfO",
        "outputId": "53c64629-7795-4d4d-aaab-7fcb9cd5369b"
      },
      "outputs": [
        {
          "output_type": "stream",
          "name": "stdout",
          "text": [
            "Digite o 1º número: 9\n",
            "i = 1, soma = 9.0\n",
            "Digite o 2º número: 8\n",
            "i = 2, soma = 17.0\n",
            "Digite o 3º número: 9\n",
            "i = 3, soma = 26.0\n",
            "a média é de: 8.67\n"
          ]
        }
      ],
      "source": [
        "passo = range(1,3+1)\n",
        "soma = 0\n",
        "\n",
        "for i in passo:\n",
        "  n = float(input('Digite o {}º número: '.format(i)))\n",
        "  soma += n\n",
        "  print('i = {}, soma = {}'.format(i,soma))\n",
        "media = soma / i\n",
        "print('a média é de: {:.2f}'.format(media))"
      ]
    },
    {
      "cell_type": "markdown",
      "metadata": {
        "id": "8jvwLnRDvp90"
      },
      "source": [
        "<h2> Exercício 2 </h2>\n",
        "\n",
        "1. Pergunte para o usuário de quantos números ele quer tirar a média\n",
        "2. Tire a média desses números"
      ]
    },
    {
      "cell_type": "code",
      "execution_count": 48,
      "metadata": {
        "colab": {
          "base_uri": "https://localhost:8080/"
        },
        "id": "qyVZh-mOvymM",
        "outputId": "ecbc81f2-d0c4-406e-97f7-193e51f14986"
      },
      "outputs": [
        {
          "output_type": "stream",
          "name": "stdout",
          "text": [
            "quantos números você quer tirar a média? 5\n",
            "Digite o 1º número1\n",
            "Digite o 2º número2\n",
            "Digite o 3º número3\n",
            "Digite o 4º número4\n",
            "Digite o 5º número5\n",
            "A média deu de: 3.0\n"
          ]
        }
      ],
      "source": [
        "qtd = int(input(\"quantos números você quer tirar a média? \"))\n",
        "passo = range(1, qtd + 1)\n",
        "soma = 0\n",
        "\n",
        "for i in passo:\n",
        "  n = float(input('Digite o {}º número'.format(i)))\n",
        "  soma += n\n",
        "media = soma / i\n",
        "print('A média deu de: {}'.format(media))"
      ]
    },
    {
      "cell_type": "markdown",
      "metadata": {
        "id": "-ZBojQytwSYF"
      },
      "source": [
        "## while\n",
        "\n",
        "Como já vimos, o for é uma estrutura de repetição que possui um começo e um fim bem determinados.\n",
        "\n",
        "Quando não sabemos onde termina um loop precisamos usar outros métodos."
      ]
    },
    {
      "cell_type": "markdown",
      "metadata": {
        "id": "HOC31j9Nwi55"
      },
      "source": [
        "O while será executado até sua condição inicial não ser mais verdade.\n",
        "\n",
        "<h2> Estrutura </h2>\n",
        "\n",
        "```\n",
        "while True:\n",
        "\tprint('Execute a ação')\n",
        "```\n",
        "\n",
        "Devido a essa estrutura precisamos ter uma variável de controle e ela precisa ser modificada dentro do loop para não ficarmos presos num looping infinito.\n",
        "\n",
        "```\n",
        "fim = False\n",
        "while fim == False:\n",
        "  print('Execute a ação')\n",
        "  fim = bool(input(‘Terminou?’))\n",
        "print('Fim')\n",
        "```\n",
        "\n",
        "<h3> Exemplo 1 </h3>\n",
        "\n",
        "Quero ler um capítulo de um livro mas não sei quantas páginas possui este capítulo"
      ]
    },
    {
      "cell_type": "code",
      "execution_count": 49,
      "metadata": {
        "colab": {
          "base_uri": "https://localhost:8080/"
        },
        "id": "y9GWqxsZxw89",
        "outputId": "4db45b59-0839-418f-aafd-be6b8fe093d9"
      },
      "outputs": [
        {
          "output_type": "stream",
          "name": "stdout",
          "text": [
            "Leia página\n",
            "Terminou o capítulo? (s/n) s\n",
            "FIM\n"
          ]
        }
      ],
      "source": [
        "fim = 'n'\n",
        "\n",
        "while fim == 'n':\n",
        "  print('Leia página')\n",
        "  fim = input('Terminou o capítulo? (s/n) ')\n",
        "print('FIM')"
      ]
    },
    {
      "cell_type": "markdown",
      "metadata": {
        "id": "LIQpYSB4zMOO"
      },
      "source": [
        "<h3> Exemplo 2 </h3>\n",
        "\n",
        "Começando pelo número 1, some 1 a ele 10 vezes consecutivas"
      ]
    },
    {
      "cell_type": "code",
      "execution_count": 50,
      "metadata": {
        "colab": {
          "base_uri": "https://localhost:8080/"
        },
        "id": "_EqecwHrzcUt",
        "outputId": "77fd8a31-c348-4e0b-c023-9657df34416d"
      },
      "outputs": [
        {
          "output_type": "stream",
          "name": "stdout",
          "text": [
            "2\n",
            "3\n",
            "4\n",
            "5\n",
            "6\n",
            "7\n",
            "8\n",
            "9\n",
            "10\n"
          ]
        }
      ],
      "source": [
        "soma = 1\n",
        "i = 1\n",
        "\n",
        "while i < 10:\n",
        "  i += 1\n",
        "  soma += 1\n",
        "  print(soma)"
      ]
    },
    {
      "cell_type": "markdown",
      "metadata": {
        "id": "gxWv1g3Tz164"
      },
      "source": [
        "<h2> Exercício 1 </h2>\n",
        "\n",
        "Some números digitados pelo usuário até a soma deles ultrapassar 20"
      ]
    },
    {
      "cell_type": "code",
      "execution_count": 59,
      "metadata": {
        "colab": {
          "base_uri": "https://localhost:8080/"
        },
        "id": "E-TiRxTaz-hF",
        "outputId": "5a86fc5a-68c4-4836-ccd1-2e3a1d255723"
      },
      "outputs": [
        {
          "output_type": "stream",
          "name": "stdout",
          "text": [
            "Digite o número: 6\n",
            "Digite o número: 7\n",
            "Digite o número: 9\n",
            "22\n"
          ]
        }
      ],
      "source": [
        "soma = 0\n",
        "\n",
        "while soma < 21:\n",
        "  n = int(input('Digite o número: '))\n",
        "  soma += n\n",
        "print(soma)"
      ]
    },
    {
      "cell_type": "markdown",
      "metadata": {
        "id": "Pph_TU7M0-th"
      },
      "source": [
        "## break\n",
        "\n",
        "O comando break é utilizado para sairmos de um loop em qualquer momento. Ele é muito utilizado quando:\n",
        "\n",
        "* Já atingimos o objetivo\n",
        "* O usuário pediu para parar o loop"
      ]
    },
    {
      "cell_type": "markdown",
      "metadata": {
        "id": "lyRv_8M11uHk"
      },
      "source": [
        "Já que ele sempre finaliza o looping no exato ponto que ele estava ele geralmente é utilizado junto com o comando `if` para testar se precisamos ou não parar o looping.\n",
        "\n",
        "<h3> Exemplo de looping infinito </h3>\n",
        "\n",
        "Some os números que o usuário digitar"
      ]
    },
    {
      "cell_type": "code",
      "execution_count": 53,
      "metadata": {
        "colab": {
          "base_uri": "https://localhost:8080/"
        },
        "id": "lLtlAjr12LC2",
        "outputId": "89b4f83f-061c-4170-de20-49e18672e63b"
      },
      "outputs": [
        {
          "output_type": "stream",
          "name": "stdout",
          "text": [
            "Digite um valor: 7\n",
            "Digite um valor: 0\n",
            "7.0\n"
          ]
        }
      ],
      "source": [
        "soma = 0\n",
        "\n",
        "while True:\n",
        "  n = float(input('Digite um valor: '))\n",
        "  soma += n\n",
        "  if n == 0:\n",
        "    break\n",
        "print(soma)"
      ]
    },
    {
      "cell_type": "markdown",
      "metadata": {
        "id": "FfX4YbP23BmW"
      },
      "source": [
        "<h3> Exemplo de looping infinito corrigido </h3>\n",
        "\n",
        "Some os números que o usuário digitar até ele pedir para parar."
      ]
    },
    {
      "cell_type": "code",
      "execution_count": 54,
      "metadata": {
        "colab": {
          "base_uri": "https://localhost:8080/"
        },
        "id": "Y45Jr5Rj3HB7",
        "outputId": "4c2269ee-3d42-4992-8ab3-fcf6250268af"
      },
      "outputs": [
        {
          "output_type": "stream",
          "name": "stdout",
          "text": [
            "Digite um valor: 4\n",
            "Você quer continuar? (s/n) 5\n",
            "depois do break\n",
            "Digite um valor: 3\n",
            "Você quer continuar? (s/n) 5\n",
            "depois do break\n",
            "Digite um valor: 2\n",
            "Você quer continuar? (s/n) n\n",
            "9\n"
          ]
        }
      ],
      "source": [
        "soma = 0\n",
        "\n",
        "while True:\n",
        "  n = int(input('Digite um valor: '))\n",
        "  soma += n\n",
        "  continua = input('Você quer continuar? (s/n) ')\n",
        "  if continua == 'n':\n",
        "    break\n",
        "  print('depois do break')\n",
        "print(soma)\n"
      ]
    },
    {
      "cell_type": "markdown",
      "metadata": {
        "id": "pEZA9oC33OA-"
      },
      "source": [
        "<h3> Exemplo 1 </h3>\n",
        "\n",
        "Peça para o usuário digitar um número. Valide o que ele digitou, caso não seja um número, peça pra ele digitar de novo."
      ]
    },
    {
      "cell_type": "code",
      "execution_count": 60,
      "metadata": {
        "colab": {
          "base_uri": "https://localhost:8080/"
        },
        "id": "pOUKQ1a03Nf-",
        "outputId": "496df02a-4f7e-426d-90c5-9fa673997dda"
      },
      "outputs": [
        {
          "output_type": "stream",
          "name": "stdout",
          "text": [
            "Digite um número: 6\n",
            "Você digitou um numero válido\n",
            "FIM\n"
          ]
        }
      ],
      "source": [
        "while True:\n",
        "  num = input('Digite um número: ')\n",
        "  if num.isnumeric() == True:\n",
        "    print('Você digitou um numero válido')\n",
        "    break\n",
        "  print('Você não digitou um número válido')\n",
        "print('FIM')"
      ]
    },
    {
      "cell_type": "markdown",
      "metadata": {
        "id": "IVcUZJbq5p1d"
      },
      "source": [
        "<h3> Exemplo 2 </h3>\n",
        "\n",
        "Faça um programa que calcula a média de valores digitados pelo usuário até o usuário pedir para parar de inserir números"
      ]
    },
    {
      "cell_type": "code",
      "execution_count": 62,
      "metadata": {
        "colab": {
          "base_uri": "https://localhost:8080/"
        },
        "id": "vA44FzlW6zJJ",
        "outputId": "22d55d70-f256-4614-ef51-cdb7d6d7556a"
      },
      "outputs": [
        {
          "output_type": "stream",
          "name": "stdout",
          "text": [
            "Digite um número: 9\n",
            "você quer continuar? (s/n) 8\n",
            "Digite um número: 9\n",
            "você quer continuar? (s/n) s\n",
            "Digite um número: 8\n",
            "você quer continuar? (s/n) n\n",
            "Você digitou 3 numeros, e a média é de 8.67\n"
          ]
        }
      ],
      "source": [
        "soma = 0\n",
        "i = 0\n",
        "\n",
        "while True:\n",
        "  i += 1\n",
        "  num = float(input('Digite um número: '))\n",
        "  soma += num\n",
        "  continua = input('você quer continuar? (s/n) ')\n",
        "  if continua == 'n':\n",
        "    break\n",
        "media = soma / i\n",
        "print('Você digitou {} numeros, e a média é de {:.2f}'.format(i, media))"
      ]
    },
    {
      "cell_type": "markdown",
      "metadata": {
        "id": "oNPzq_Ei73gy"
      },
      "source": [
        "# Exercícios"
      ]
    },
    {
      "cell_type": "markdown",
      "metadata": {
        "id": "aSawlb7J8wXc"
      },
      "source": [
        "<h2> Exercício 1 </h2>\n",
        "\n",
        "Faça um programa que calcula a tabuada do número digitado pelo usuário."
      ]
    },
    {
      "cell_type": "code",
      "execution_count": 63,
      "metadata": {
        "colab": {
          "base_uri": "https://localhost:8080/"
        },
        "id": "QPYS_FtJ8-3g",
        "outputId": "b012d173-ebcf-40b5-9ffe-a221ce4ec38a"
      },
      "outputs": [
        {
          "output_type": "stream",
          "name": "stdout",
          "text": [
            "Digite um número para ver sua tabuada: 3\n",
            "\n",
            "Tabuada de 3:\n",
            "3 x 1 = 3\n",
            "3 x 2 = 6\n",
            "3 x 3 = 9\n",
            "3 x 4 = 12\n",
            "3 x 5 = 15\n",
            "3 x 6 = 18\n",
            "3 x 7 = 21\n",
            "3 x 8 = 24\n",
            "3 x 9 = 27\n",
            "3 x 10 = 30\n"
          ]
        }
      ],
      "source": [
        "# Solicita ao usuário para digitar um número\n",
        "numero = int(input(\"Digite um número para ver sua tabuada: \"))\n",
        "\n",
        "# Calcula e exibe a tabuada do número\n",
        "print(f\"\\nTabuada de {numero}:\")\n",
        "for i in range(1, 11):\n",
        "    resultado = numero * i\n",
        "    print(f\"{numero} x {i} = {resultado}\")\n"
      ]
    },
    {
      "cell_type": "markdown",
      "metadata": {
        "id": "_rBeqxIV8Rvx"
      },
      "source": [
        "<h2> Exercício 2\n",
        "\n",
        "Faça um programa que o usuário irá digitar 10 números e você irá mostrar:\n",
        "\n",
        "* Qual foi o menor valor\n",
        "* Qual foi o maior valor\n",
        "* Qual a média dos valores"
      ]
    },
    {
      "cell_type": "code",
      "execution_count": 64,
      "metadata": {
        "colab": {
          "base_uri": "https://localhost:8080/"
        },
        "id": "32TsqDVn8RVT",
        "outputId": "f52f0151-6224-45f5-aa04-eed43c301b43"
      },
      "outputs": [
        {
          "output_type": "stream",
          "name": "stdout",
          "text": [
            "Digite o número 1: 5\n",
            "Digite o número 2: 4\n",
            "Digite o número 3: 7\n",
            "Digite o número 4: 3\n",
            "Digite o número 5: 8\n",
            "Digite o número 6: 5\n",
            "Digite o número 7: 9\n",
            "Digite o número 8: 3\n",
            "Digite o número 9: 5\n",
            "Digite o número 10: 7\n",
            "\n",
            "Resultados:\n",
            "Menor valor: 3.0\n",
            "Maior valor: 9.0\n",
            "Média dos valores: 5.6\n"
          ]
        }
      ],
      "source": [
        "# Inicializa uma lista para armazenar os números\n",
        "numeros = []\n",
        "\n",
        "# Pede para o usuário digitar 10 números\n",
        "for i in range(10):\n",
        "    numero = float(input(f\"Digite o número {i+1}: \"))\n",
        "    numeros.append(numero)\n",
        "\n",
        "# Calcula o menor valor, o maior valor e a média\n",
        "menor_valor = min(numeros)\n",
        "maior_valor = max(numeros)\n",
        "media = sum(numeros) / len(numeros)\n",
        "\n",
        "# Exibe os resultados\n",
        "print(\"\\nResultados:\")\n",
        "print(f\"Menor valor: {menor_valor}\")\n",
        "print(f\"Maior valor: {maior_valor}\")\n",
        "print(f\"Média dos valores: {media}\")\n"
      ]
    },
    {
      "cell_type": "markdown",
      "metadata": {
        "id": "RDgwAZQF75-i"
      },
      "source": [
        "<h2> Exercício 3 </h2>\n",
        "\n",
        "Faça um programa que calcula a Sequência de Fibonacci de N números, onde N é dado pelo usuário.\n",
        "\n",
        "Essa sequência é construída começando com os números 0 e 1. O próximo número da sequência é sempre a soma dos 2 anteriores.\n",
        "\n",
        "Sequência: 0 - 1 - 1 - 2 - 3 - 5 - 8 - 13 - 21 - ..."
      ]
    },
    {
      "cell_type": "code",
      "execution_count": 83,
      "metadata": {
        "id": "bCusX8Iy8v_e",
        "outputId": "30267cc4-e2ca-4343-b224-26c5f8d8f2c3",
        "colab": {
          "base_uri": "https://localhost:8080/"
        }
      },
      "outputs": [
        {
          "output_type": "stream",
          "name": "stdout",
          "text": [
            "Digite o número de termos da sequência de Fibonacci: 4\n",
            "2\n"
          ]
        }
      ],
      "source": [
        "# Solicita ao usuário o número de termos para a sequência de Fibonacci\n",
        "n = int(input(\"Digite o número de termos da sequência de Fibonacci: \"))\n",
        "\n",
        "# Inicializa os dois primeiros termos da sequência\n",
        "n0 = 0\n",
        "n1 = 1\n",
        "max_iterations = 5000\n",
        "# Calcula os termos restantes da sequência até alcançar N termos\n",
        "if n > max_iterations:\n",
        "  print('Escolha um número menor que {}'.format(max_iterations))\n",
        "elif type(n) != int:\n",
        "  print('Digite um número inteiro')\n",
        "else:\n",
        "  if n == 1:\n",
        "    print(n0)\n",
        "  elif n == 2:\n",
        "    print(n1)\n",
        "  elif n > 2:\n",
        "    for i in range(3, n+1):\n",
        "      n2 = n0 + n1\n",
        "      n0 = n1\n",
        "      n1 = n2\n",
        "      if i == n:\n",
        "        print(n2)\n",
        "  else:\n",
        "    print('Digite um número maior ou igual a 1')"
      ]
    }
  ],
  "metadata": {
    "colab": {
      "provenance": [],
      "include_colab_link": true
    },
    "kernelspec": {
      "display_name": "Python 3",
      "name": "python3"
    },
    "language_info": {
      "name": "python"
    }
  },
  "nbformat": 4,
  "nbformat_minor": 0
}