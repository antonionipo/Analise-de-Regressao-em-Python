{
  "nbformat": 4,
  "nbformat_minor": 0,
  "metadata": {
    "colab": {
      "provenance": [],
      "authorship_tag": "ABX9TyNu+N4Lkg5SLA8K5UVuC22l",
      "include_colab_link": true
    },
    "kernelspec": {
      "name": "python3",
      "display_name": "Python 3"
    },
    "language_info": {
      "name": "python"
    }
  },
  "cells": [
    {
      "cell_type": "markdown",
      "metadata": {
        "id": "view-in-github",
        "colab_type": "text"
      },
      "source": [
        "<a href=\"https://colab.research.google.com/github/antonionipo/Analise-de-Regressao-em-Python/blob/main/Condicionais_Case_1.ipynb\" target=\"_parent\"><img src=\"https://colab.research.google.com/assets/colab-badge.svg\" alt=\"Open In Colab\"/></a>"
      ]
    },
    {
      "cell_type": "markdown",
      "source": [
        "# CONDICIONAIS"
      ],
      "metadata": {
        "id": "uiag2nAHtIQV"
      }
    },
    {
      "cell_type": "markdown",
      "source": [
        "## EXERCÍCIO"
      ],
      "metadata": {
        "id": "cWzYPvWwtMmb"
      }
    },
    {
      "cell_type": "markdown",
      "source": [
        "Você deverá utilizar o que aprendeu nas aulas de condicionais para\n",
        "desenvolver os desafios a seguir:\n",
        "1. Seu primeiro desafio é desenvolver um programa para um depósito de\n",
        "bebidas que valide venda de bebidas para maiores de idade (maior ou\n",
        "igual 18 anos) no mercado, o programa deve receber do usuário os\n",
        "valores do nome e ano que ele nasceu e retornar se ele pode comprar\n",
        "bebidas.\n",
        "2. Esse bimestre na faculdade você precisa tirar nota 8 de média para\n",
        "passar na matéria, desenvolva um script que leia a nota de suas\n",
        "últimas 3 provas, tire a média delas e verifique se você passou.\n",
        "3. A fisioterapeuta que você vai gosta muito de brincar com números, e\n",
        "pediu para você criar um sistema que verifique se a altura inserida é\n",
        "par ou impar.\n",
        "4. Faça um script que você coloque a quantidade de dias e descubra em\n",
        "qual trimestre esse dia está no ano.\n",
        "5. Desenvolva um sistema que leia 3 números e diga qual é o maior (se\n",
        "houver empate, exiba os empatados)."
      ],
      "metadata": {
        "id": "M2M7iO_ytUOZ"
      }
    },
    {
      "cell_type": "code",
      "execution_count": 1,
      "metadata": {
        "colab": {
          "base_uri": "https://localhost:8080/"
        },
        "id": "JcabZYXjtBDH",
        "outputId": "d81f4e94-61ae-4277-fd35-8d1f78fbef8e"
      },
      "outputs": [
        {
          "output_type": "stream",
          "name": "stdout",
          "text": [
            "Digite seu nome: Antonio\n",
            "Digite o ano que você nasceu: 1998\n",
            "Validado para Antonio\n"
          ]
        }
      ],
      "source": [
        "# exercício 1\n",
        "# dados\n",
        "nome = input(\"Digite seu nome: \")\n",
        "ano_nascimento = int(input(\"Digite o ano que você nasceu: \"))\n",
        "\n",
        "# cálculo\n",
        "idade = 2024 - ano_nascimento\n",
        "\n",
        "# condicional com resposta\n",
        "if idade >= 18:\n",
        "  print('Validado para {}'.format(nome))\n",
        "else:\n",
        "  print('Não validado para {}'.format(nome))"
      ]
    },
    {
      "cell_type": "code",
      "source": [
        "# exercício 2\n",
        "# dados\n",
        "nota1 = float(input(\"Digite a primeira nota: \"))\n",
        "nota2 = float(input(\"Digite a segunda nota: \"))\n",
        "nota3 = float(input(\"Digite a terceira nota: \"))\n",
        "\n",
        "# cálculo\n",
        "media = (nota1 + nota2 + nota3) / 3\n",
        "\n",
        "# condicional com resposta\n",
        "if media >= 8:\n",
        "  print('Aprovado')\n",
        "else:\n",
        "  print('Reprovado')"
      ],
      "metadata": {
        "colab": {
          "base_uri": "https://localhost:8080/"
        },
        "id": "AzGFkKtEuFAA",
        "outputId": "2279f98f-fc16-4509-a7ab-ae7c21971414"
      },
      "execution_count": 3,
      "outputs": [
        {
          "output_type": "stream",
          "name": "stdout",
          "text": [
            "Digite a primeira nota: 7\n",
            "Digite a segunda nota: 8\n",
            "Digite a terceira nota: 9\n",
            "Aprovado\n"
          ]
        }
      ]
    },
    {
      "cell_type": "code",
      "source": [
        "# exercício 3\n",
        "# dados\n",
        "altura = float(input('Insira a altura em centímetros: '))\n",
        "\n",
        "# condicional com resposta\n",
        "if altura % 2 == 0:\n",
        "  print('A altura é par')\n",
        "else:\n",
        "  print('A altura é ímpar')"
      ],
      "metadata": {
        "colab": {
          "base_uri": "https://localhost:8080/"
        },
        "id": "wnm47Ru5upVH",
        "outputId": "1144d3ba-9670-4500-a6d9-c71aa19f4b49"
      },
      "execution_count": 4,
      "outputs": [
        {
          "output_type": "stream",
          "name": "stdout",
          "text": [
            "Insira a altura em centímetros: 173\n",
            "A altura é ímpar\n"
          ]
        }
      ]
    },
    {
      "cell_type": "code",
      "source": [
        "# exercício 4\n",
        "# dados\n",
        "dia = int(input('Insira o dia do ano: '))\n",
        "\n",
        "# condicional com resposta\n",
        "if dia <= 90:\n",
        "  print('O dia {} está no primeiro trimestre'.format(dia))\n",
        "elif dia <= 181:\n",
        "  print('O dia {} está no segundo trimestre'.format(dia))\n",
        "elif dia <= 273:\n",
        "  print('O dia {} está no terceiro trimestre'.format(dia))\n",
        "elif dia <= 365:\n",
        "  print('O dia {} está no quarto trimestre'.format(dia))\n",
        "else:\n",
        "  print('O dia {} não está no ano'.format(dia))"
      ],
      "metadata": {
        "colab": {
          "base_uri": "https://localhost:8080/"
        },
        "id": "usIq4jlwvIuA",
        "outputId": "32e30663-ad75-4142-aeea-ba99588d7afa"
      },
      "execution_count": 5,
      "outputs": [
        {
          "output_type": "stream",
          "name": "stdout",
          "text": [
            "Insira o dia do ano: 276\n",
            "O dia 276 está no quarto trimestre\n"
          ]
        }
      ]
    }
  ]
}